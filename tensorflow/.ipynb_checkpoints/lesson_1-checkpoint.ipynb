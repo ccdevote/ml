{
 "cells": [
  {
   "cell_type": "code",
   "execution_count": 2,
   "metadata": {
    "collapsed": true
   },
   "outputs": [],
   "source": [
    "import tensorflow as tf"
   ]
  },
  {
   "cell_type": "markdown",
   "metadata": {},
   "source": [
    "### Tensorflow构建图\n",
    "---"
   ]
  },
  {
   "cell_type": "code",
   "execution_count": 3,
   "metadata": {},
   "outputs": [],
   "source": [
    "# 构建图的第一步是创建源Op，源Op没有任何输入，其输出可以传递给其他Op做输入\n",
    "# 定义 1x2　矩阵\n",
    "matrix1 = tf.constant([[3., 3.]])\n",
    "# 定义 2x1 矩阵\n",
    "matrix2 = tf.constant([[2.], [2.]])\n",
    "product = tf.matmul(matrix1, matrix2)"
   ]
  },
  {
   "cell_type": "markdown",
   "metadata": {},
   "source": [
    "此时，只完成了图的构建，图中包含三个节点，两个constant() Op, 一个matmul() Op，为了得到矩阵乘法的结果，需要启动图计算。"
   ]
  },
  {
   "cell_type": "code",
   "execution_count": 4,
   "metadata": {},
   "outputs": [],
   "source": [
    "sess = tf.Session()\n",
    "result = sess.run(product)\n",
    "sess.close()"
   ]
  },
  {
   "cell_type": "markdown",
   "metadata": {},
   "source": [
    "通过Session的run()方法，启动了图中三个Op的执行，返回值result是numpy ndarray对象。Session对象在使用完成后需要显示的调用close()方法，释放资源。"
   ]
  },
  {
   "cell_type": "code",
   "execution_count": 5,
   "metadata": {},
   "outputs": [
    {
     "name": "stdout",
     "output_type": "stream",
     "text": [
      "[[ 12.]]\n"
     ]
    }
   ],
   "source": [
    "print(result)"
   ]
  },
  {
   "cell_type": "markdown",
   "metadata": {},
   "source": [
    "除显示的调用close()方法外，还可以通过with代码块完成自动关闭操作。"
   ]
  },
  {
   "cell_type": "code",
   "execution_count": 6,
   "metadata": {},
   "outputs": [
    {
     "name": "stdout",
     "output_type": "stream",
     "text": [
      "[array([[ 12.]], dtype=float32), array([[ 12.]], dtype=float32)]\n"
     ]
    }
   ],
   "source": [
    "with tf.Session() as sess:\n",
    "    result = sess.run([product, product])\n",
    "    print(result)"
   ]
  },
  {
   "cell_type": "markdown",
   "metadata": {},
   "source": [
    "Tensorflow将构造的计算图转换成分布式执行的操作，从而可以充分的利用计算资源（CPU,GPU)，在没有显示指定计算资源的情况下，Tensorflow会自动检测，并且优先使用GPU设备进行计算。如果机器上有超过一个GPU设备，则会使用第一个GPU设备进行计算，其他GPU设备不参与计算。可以显示的使用`with...Device`语句来指派特定的计算设备。"
   ]
  },
  {
   "cell_type": "code",
   "execution_count": 7,
   "metadata": {},
   "outputs": [
    {
     "name": "stdout",
     "output_type": "stream",
     "text": [
      "[[ 12.]]\n"
     ]
    }
   ],
   "source": [
    "with tf.Session() as sess:\n",
    "    with tf.device(\"/gpu:0\"):\n",
    "        matrix1 = tf.constant([[3., 3.]])\n",
    "        matrix2 = tf.constant([[2.], [2.]])\n",
    "        product = tf.matmul(matrix1, matrix2)\n",
    "        print(sess.run(product))"
   ]
  },
  {
   "cell_type": "markdown",
   "metadata": {},
   "source": [
    "设备使用字符串进行标识，目前支持的设备包括：\n",
    "- \"/cpu:0\"：机器的CPU\n",
    "- \"/gpu:i\" i $in$ [0-n]： 机器的第i个GPU"
   ]
  },
  {
   "cell_type": "markdown",
   "metadata": {},
   "source": [
    "### Tensorflow交互式执行\n",
    "---"
   ]
  },
  {
   "cell_type": "markdown",
   "metadata": {},
   "source": [
    "为了便于IPython之类的Python交互环境，可以使用`InteractiveSession`代替`Session`启动图，从而实现交互式执行。每一个`Tensor`可以使用 `eval()`方法，`Operation`使用 `run()`方法代替 `Session.run()`方法来执行。"
   ]
  },
  {
   "cell_type": "code",
   "execution_count": 17,
   "metadata": {},
   "outputs": [
    {
     "name": "stdout",
     "output_type": "stream",
     "text": [
      "<tf.Variable 'Variable_9:0' shape=(2,) dtype=float32_ref>\n",
      "Tensor(\"Const_13:0\", shape=(2,), dtype=float32)\n",
      "[-2. -1.]\n"
     ]
    }
   ],
   "source": [
    "import tensorflow as tf\n",
    "sess = tf.InteractiveSession()\n",
    "x = tf.Variable([1.0, 2.])\n",
    "a = tf.constant([3.0, 3.0])\n",
    "print(x)\n",
    "print(a)\n",
    "# 使用初始化器初始化 x，此时x并未执行。\n",
    "x.initializer.run()\n",
    "# 定义减法 Op\n",
    "sub = tf.subtract(x, a)\n",
    "# 执行 Op\n",
    "result = sub.eval()\n",
    "print(result)\n",
    "sess.close()"
   ]
  },
  {
   "cell_type": "markdown",
   "metadata": {},
   "source": [
    "### 变量\n",
    "---"
   ]
  },
  {
   "cell_type": "markdown",
   "metadata": {},
   "source": [
    "Tensorflow通过变量来维护计算图执行过程中的状态信息，变量值可以改变。下面展示计数器的例子："
   ]
  },
  {
   "cell_type": "code",
   "execution_count": 22,
   "metadata": {},
   "outputs": [
    {
     "name": "stdout",
     "output_type": "stream",
     "text": [
      "0\n",
      "1\n",
      "2\n",
      "3\n",
      "4\n",
      "5\n"
     ]
    }
   ],
   "source": [
    "import tensorflow as tf\n",
    "\n",
    "counter = tf.Variable(0, name=\"counter\")\n",
    "one = tf.constant(1)\n",
    "value = tf.add(counter, one)\n",
    "# 给counter复新值，并返回新值\n",
    "update = tf.assign(counter, value)\n",
    "\n",
    "# 启动图前，变量必须先 初始化， 因此需要增加init_op到图中\n",
    "init_op = tf.global_variables_initializer()\n",
    "with tf.Session() as sess:\n",
    "    sess.run(init_op)\n",
    "    print(sess.run(counter))\n",
    "    for _ in range(5):\n",
    "        print(sess.run(update))\n",
    "        # print(sess.run(counter))"
   ]
  },
  {
   "cell_type": "markdown",
   "metadata": {},
   "source": [
    "### Fetch\n",
    "---\n",
    "在Session.run()方法中传入tensor可以取回tensor的值"
   ]
  }
 ],
 "metadata": {
  "kernelspec": {
   "display_name": "Python 2",
   "language": "python",
   "name": "python2"
  },
  "language_info": {
   "codemirror_mode": {
    "name": "ipython",
    "version": 2
   },
   "file_extension": ".py",
   "mimetype": "text/x-python",
   "name": "python",
   "nbconvert_exporter": "python",
   "pygments_lexer": "ipython2",
   "version": "2.7.14"
  }
 },
 "nbformat": 4,
 "nbformat_minor": 2
}
